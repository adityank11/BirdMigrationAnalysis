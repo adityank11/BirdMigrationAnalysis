{
  "nbformat": 4,
  "nbformat_minor": 0,
  "metadata": {
    "colab": {
      "provenance": []
    },
    "kernelspec": {
      "name": "python3",
      "display_name": "Python 3"
    },
    "language_info": {
      "name": "python"
    },
    "gpuClass": "standard"
  },
  "cells": [
    {
      "cell_type": "markdown",
      "source": [
        "# In this project I have tried to build a model to predict the next location of our seagull"
      ],
      "metadata": {
        "id": "5XtmldUa1adU"
      }
    },
    {
      "cell_type": "code",
      "execution_count": null,
      "metadata": {
        "id": "Oq9U3_dg2MRG"
      },
      "outputs": [],
      "source": [
        "import numpy as np\n",
        "import pandas as pd"
      ]
    },
    {
      "cell_type": "code",
      "source": [
        "bird_df = pd.read_csv('/content/drive/MyDrive/bird_tracking.csv')"
      ],
      "metadata": {
        "id": "mrA9VPU62QIJ"
      },
      "execution_count": null,
      "outputs": []
    },
    {
      "cell_type": "code",
      "source": [
        "bird_df.sample(1)"
      ],
      "metadata": {
        "colab": {
          "base_uri": "https://localhost:8080/",
          "height": 81
        },
        "id": "FYab91hS3uiW",
        "outputId": "26559c73-321b-438a-bd2e-a8ef77ec313c"
      },
      "execution_count": null,
      "outputs": [
        {
          "output_type": "execute_result",
          "data": {
            "text/plain": [
              "       altitude               date_time  device_info_serial  direction  \\\n",
              "11007         3  2014-01-03 16:00:38+00                 851 -64.423014   \n",
              "\n",
              "        latitude  longitude  speed_2d bird_name  \n",
              "11007  30.438492  -9.649463  1.677051      Eric  "
            ],
            "text/html": [
              "\n",
              "  <div id=\"df-81984483-bff3-4303-999b-8b3aedce3178\">\n",
              "    <div class=\"colab-df-container\">\n",
              "      <div>\n",
              "<style scoped>\n",
              "    .dataframe tbody tr th:only-of-type {\n",
              "        vertical-align: middle;\n",
              "    }\n",
              "\n",
              "    .dataframe tbody tr th {\n",
              "        vertical-align: top;\n",
              "    }\n",
              "\n",
              "    .dataframe thead th {\n",
              "        text-align: right;\n",
              "    }\n",
              "</style>\n",
              "<table border=\"1\" class=\"dataframe\">\n",
              "  <thead>\n",
              "    <tr style=\"text-align: right;\">\n",
              "      <th></th>\n",
              "      <th>altitude</th>\n",
              "      <th>date_time</th>\n",
              "      <th>device_info_serial</th>\n",
              "      <th>direction</th>\n",
              "      <th>latitude</th>\n",
              "      <th>longitude</th>\n",
              "      <th>speed_2d</th>\n",
              "      <th>bird_name</th>\n",
              "    </tr>\n",
              "  </thead>\n",
              "  <tbody>\n",
              "    <tr>\n",
              "      <th>11007</th>\n",
              "      <td>3</td>\n",
              "      <td>2014-01-03 16:00:38+00</td>\n",
              "      <td>851</td>\n",
              "      <td>-64.423014</td>\n",
              "      <td>30.438492</td>\n",
              "      <td>-9.649463</td>\n",
              "      <td>1.677051</td>\n",
              "      <td>Eric</td>\n",
              "    </tr>\n",
              "  </tbody>\n",
              "</table>\n",
              "</div>\n",
              "      <button class=\"colab-df-convert\" onclick=\"convertToInteractive('df-81984483-bff3-4303-999b-8b3aedce3178')\"\n",
              "              title=\"Convert this dataframe to an interactive table.\"\n",
              "              style=\"display:none;\">\n",
              "        \n",
              "  <svg xmlns=\"http://www.w3.org/2000/svg\" height=\"24px\"viewBox=\"0 0 24 24\"\n",
              "       width=\"24px\">\n",
              "    <path d=\"M0 0h24v24H0V0z\" fill=\"none\"/>\n",
              "    <path d=\"M18.56 5.44l.94 2.06.94-2.06 2.06-.94-2.06-.94-.94-2.06-.94 2.06-2.06.94zm-11 1L8.5 8.5l.94-2.06 2.06-.94-2.06-.94L8.5 2.5l-.94 2.06-2.06.94zm10 10l.94 2.06.94-2.06 2.06-.94-2.06-.94-.94-2.06-.94 2.06-2.06.94z\"/><path d=\"M17.41 7.96l-1.37-1.37c-.4-.4-.92-.59-1.43-.59-.52 0-1.04.2-1.43.59L10.3 9.45l-7.72 7.72c-.78.78-.78 2.05 0 2.83L4 21.41c.39.39.9.59 1.41.59.51 0 1.02-.2 1.41-.59l7.78-7.78 2.81-2.81c.8-.78.8-2.07 0-2.86zM5.41 20L4 18.59l7.72-7.72 1.47 1.35L5.41 20z\"/>\n",
              "  </svg>\n",
              "      </button>\n",
              "      \n",
              "  <style>\n",
              "    .colab-df-container {\n",
              "      display:flex;\n",
              "      flex-wrap:wrap;\n",
              "      gap: 12px;\n",
              "    }\n",
              "\n",
              "    .colab-df-convert {\n",
              "      background-color: #E8F0FE;\n",
              "      border: none;\n",
              "      border-radius: 50%;\n",
              "      cursor: pointer;\n",
              "      display: none;\n",
              "      fill: #1967D2;\n",
              "      height: 32px;\n",
              "      padding: 0 0 0 0;\n",
              "      width: 32px;\n",
              "    }\n",
              "\n",
              "    .colab-df-convert:hover {\n",
              "      background-color: #E2EBFA;\n",
              "      box-shadow: 0px 1px 2px rgba(60, 64, 67, 0.3), 0px 1px 3px 1px rgba(60, 64, 67, 0.15);\n",
              "      fill: #174EA6;\n",
              "    }\n",
              "\n",
              "    [theme=dark] .colab-df-convert {\n",
              "      background-color: #3B4455;\n",
              "      fill: #D2E3FC;\n",
              "    }\n",
              "\n",
              "    [theme=dark] .colab-df-convert:hover {\n",
              "      background-color: #434B5C;\n",
              "      box-shadow: 0px 1px 3px 1px rgba(0, 0, 0, 0.15);\n",
              "      filter: drop-shadow(0px 1px 2px rgba(0, 0, 0, 0.3));\n",
              "      fill: #FFFFFF;\n",
              "    }\n",
              "  </style>\n",
              "\n",
              "      <script>\n",
              "        const buttonEl =\n",
              "          document.querySelector('#df-81984483-bff3-4303-999b-8b3aedce3178 button.colab-df-convert');\n",
              "        buttonEl.style.display =\n",
              "          google.colab.kernel.accessAllowed ? 'block' : 'none';\n",
              "\n",
              "        async function convertToInteractive(key) {\n",
              "          const element = document.querySelector('#df-81984483-bff3-4303-999b-8b3aedce3178');\n",
              "          const dataTable =\n",
              "            await google.colab.kernel.invokeFunction('convertToInteractive',\n",
              "                                                     [key], {});\n",
              "          if (!dataTable) return;\n",
              "\n",
              "          const docLinkHtml = 'Like what you see? Visit the ' +\n",
              "            '<a target=\"_blank\" href=https://colab.research.google.com/notebooks/data_table.ipynb>data table notebook</a>'\n",
              "            + ' to learn more about interactive tables.';\n",
              "          element.innerHTML = '';\n",
              "          dataTable['output_type'] = 'display_data';\n",
              "          await google.colab.output.renderOutput(dataTable, element);\n",
              "          const docLink = document.createElement('div');\n",
              "          docLink.innerHTML = docLinkHtml;\n",
              "          element.appendChild(docLink);\n",
              "        }\n",
              "      </script>\n",
              "    </div>\n",
              "  </div>\n",
              "  "
            ]
          },
          "metadata": {},
          "execution_count": 3
        }
      ]
    },
    {
      "cell_type": "markdown",
      "source": [
        "# Univariate analysis:"
      ],
      "metadata": {
        "id": "qa5aPsFB8zGs"
      }
    },
    {
      "cell_type": "code",
      "source": [
        "bird_names = pd.unique(bird_df.bird_name)"
      ],
      "metadata": {
        "id": "E_dJ1Ath3wko"
      },
      "execution_count": null,
      "outputs": []
    },
    {
      "cell_type": "code",
      "source": [
        "bird_names"
      ],
      "metadata": {
        "colab": {
          "base_uri": "https://localhost:8080/"
        },
        "id": "onyfallp4TNH",
        "outputId": "0798f0cb-893f-4dd1-8994-40d6faae6f75"
      },
      "execution_count": null,
      "outputs": [
        {
          "output_type": "execute_result",
          "data": {
            "text/plain": [
              "array(['Eric', 'Nico', 'Sanne'], dtype=object)"
            ]
          },
          "metadata": {},
          "execution_count": 5
        }
      ]
    },
    {
      "cell_type": "code",
      "source": [
        "a = bird_df.groupby(['bird_name']).size()\n",
        "a"
      ],
      "metadata": {
        "colab": {
          "base_uri": "https://localhost:8080/"
        },
        "id": "sedgko5c4o2c",
        "outputId": "e473e229-5ed6-40d5-ce3e-15ba9dffe03c"
      },
      "execution_count": null,
      "outputs": [
        {
          "output_type": "execute_result",
          "data": {
            "text/plain": [
              "bird_name\n",
              "Eric     19795\n",
              "Nico     21121\n",
              "Sanne    21004\n",
              "dtype: int64"
            ]
          },
          "metadata": {},
          "execution_count": 6
        }
      ]
    },
    {
      "cell_type": "code",
      "source": [
        "bird_df.isnull().sum()"
      ],
      "metadata": {
        "colab": {
          "base_uri": "https://localhost:8080/"
        },
        "id": "HHTM0vXoAUZS",
        "outputId": "89c4629b-8a54-4778-e25c-34022ae904dd"
      },
      "execution_count": null,
      "outputs": [
        {
          "output_type": "execute_result",
          "data": {
            "text/plain": [
              "altitude                0\n",
              "date_time               0\n",
              "device_info_serial      0\n",
              "direction             443\n",
              "latitude                0\n",
              "longitude               0\n",
              "speed_2d              443\n",
              "bird_name               0\n",
              "dtype: int64"
            ]
          },
          "metadata": {},
          "execution_count": 7
        }
      ]
    },
    {
      "cell_type": "code",
      "source": [
        "#Use interpolation to input missing values\n",
        "bird_df = bird_df.interpolate(method='linear')"
      ],
      "metadata": {
        "id": "pHoeR1bRR1W0"
      },
      "execution_count": null,
      "outputs": []
    },
    {
      "cell_type": "code",
      "source": [
        "bird_df.isnull().sum()"
      ],
      "metadata": {
        "colab": {
          "base_uri": "https://localhost:8080/"
        },
        "id": "d8bDquVMR9gP",
        "outputId": "3d5adb20-43e1-4223-8495-69a7e14f05f0"
      },
      "execution_count": null,
      "outputs": [
        {
          "output_type": "execute_result",
          "data": {
            "text/plain": [
              "altitude              0\n",
              "date_time             0\n",
              "device_info_serial    0\n",
              "direction             0\n",
              "latitude              0\n",
              "longitude             0\n",
              "speed_2d              0\n",
              "bird_name             0\n",
              "dtype: int64"
            ]
          },
          "metadata": {},
          "execution_count": 9
        }
      ]
    },
    {
      "cell_type": "code",
      "source": [
        "bird_df['device_info_serial'].value_counts()"
      ],
      "metadata": {
        "colab": {
          "base_uri": "https://localhost:8080/"
        },
        "id": "mkOpnC0iS4yM",
        "outputId": "efa51e50-fbed-465a-b490-618d8dd100e1"
      },
      "execution_count": null,
      "outputs": [
        {
          "output_type": "execute_result",
          "data": {
            "text/plain": [
              "864    21121\n",
              "833    21004\n",
              "851    19795\n",
              "Name: device_info_serial, dtype: int64"
            ]
          },
          "metadata": {},
          "execution_count": 10
        }
      ]
    },
    {
      "cell_type": "code",
      "source": [
        "bird_df.sample(5)"
      ],
      "metadata": {
        "colab": {
          "base_uri": "https://localhost:8080/",
          "height": 206
        },
        "id": "Rwvjp1EpTJ2q",
        "outputId": "87bf43df-1a1c-4e82-cf95-45146ea7621a"
      },
      "execution_count": null,
      "outputs": [
        {
          "output_type": "execute_result",
          "data": {
            "text/plain": [
              "       altitude               date_time  device_info_serial   direction  \\\n",
              "31628        -7  2014-01-05 06:57:33+00                 864  117.241553   \n",
              "9626         24  2013-12-18 04:01:46+00                 851  156.798606   \n",
              "42081       559  2013-08-29 12:18:55+00                 833 -130.554490   \n",
              "16831         9  2014-03-14 23:30:22+00                 851 -145.842712   \n",
              "24061       211  2013-10-05 09:43:13+00                 864    4.291899   \n",
              "\n",
              "        latitude  longitude   speed_2d bird_name  \n",
              "31628  18.894258 -16.183919   1.811077      Nico  \n",
              "9626   30.429451  -9.643789   0.830060      Eric  \n",
              "42081  49.340595   0.131699  11.682264     Sanne  \n",
              "16831  30.428969  -9.642462   1.451241      Eric  \n",
              "24061  50.205352   4.391217   1.684429      Nico  "
            ],
            "text/html": [
              "\n",
              "  <div id=\"df-983c8380-9b06-40d1-9328-b6fe0ddaf0f8\">\n",
              "    <div class=\"colab-df-container\">\n",
              "      <div>\n",
              "<style scoped>\n",
              "    .dataframe tbody tr th:only-of-type {\n",
              "        vertical-align: middle;\n",
              "    }\n",
              "\n",
              "    .dataframe tbody tr th {\n",
              "        vertical-align: top;\n",
              "    }\n",
              "\n",
              "    .dataframe thead th {\n",
              "        text-align: right;\n",
              "    }\n",
              "</style>\n",
              "<table border=\"1\" class=\"dataframe\">\n",
              "  <thead>\n",
              "    <tr style=\"text-align: right;\">\n",
              "      <th></th>\n",
              "      <th>altitude</th>\n",
              "      <th>date_time</th>\n",
              "      <th>device_info_serial</th>\n",
              "      <th>direction</th>\n",
              "      <th>latitude</th>\n",
              "      <th>longitude</th>\n",
              "      <th>speed_2d</th>\n",
              "      <th>bird_name</th>\n",
              "    </tr>\n",
              "  </thead>\n",
              "  <tbody>\n",
              "    <tr>\n",
              "      <th>31628</th>\n",
              "      <td>-7</td>\n",
              "      <td>2014-01-05 06:57:33+00</td>\n",
              "      <td>864</td>\n",
              "      <td>117.241553</td>\n",
              "      <td>18.894258</td>\n",
              "      <td>-16.183919</td>\n",
              "      <td>1.811077</td>\n",
              "      <td>Nico</td>\n",
              "    </tr>\n",
              "    <tr>\n",
              "      <th>9626</th>\n",
              "      <td>24</td>\n",
              "      <td>2013-12-18 04:01:46+00</td>\n",
              "      <td>851</td>\n",
              "      <td>156.798606</td>\n",
              "      <td>30.429451</td>\n",
              "      <td>-9.643789</td>\n",
              "      <td>0.830060</td>\n",
              "      <td>Eric</td>\n",
              "    </tr>\n",
              "    <tr>\n",
              "      <th>42081</th>\n",
              "      <td>559</td>\n",
              "      <td>2013-08-29 12:18:55+00</td>\n",
              "      <td>833</td>\n",
              "      <td>-130.554490</td>\n",
              "      <td>49.340595</td>\n",
              "      <td>0.131699</td>\n",
              "      <td>11.682264</td>\n",
              "      <td>Sanne</td>\n",
              "    </tr>\n",
              "    <tr>\n",
              "      <th>16831</th>\n",
              "      <td>9</td>\n",
              "      <td>2014-03-14 23:30:22+00</td>\n",
              "      <td>851</td>\n",
              "      <td>-145.842712</td>\n",
              "      <td>30.428969</td>\n",
              "      <td>-9.642462</td>\n",
              "      <td>1.451241</td>\n",
              "      <td>Eric</td>\n",
              "    </tr>\n",
              "    <tr>\n",
              "      <th>24061</th>\n",
              "      <td>211</td>\n",
              "      <td>2013-10-05 09:43:13+00</td>\n",
              "      <td>864</td>\n",
              "      <td>4.291899</td>\n",
              "      <td>50.205352</td>\n",
              "      <td>4.391217</td>\n",
              "      <td>1.684429</td>\n",
              "      <td>Nico</td>\n",
              "    </tr>\n",
              "  </tbody>\n",
              "</table>\n",
              "</div>\n",
              "      <button class=\"colab-df-convert\" onclick=\"convertToInteractive('df-983c8380-9b06-40d1-9328-b6fe0ddaf0f8')\"\n",
              "              title=\"Convert this dataframe to an interactive table.\"\n",
              "              style=\"display:none;\">\n",
              "        \n",
              "  <svg xmlns=\"http://www.w3.org/2000/svg\" height=\"24px\"viewBox=\"0 0 24 24\"\n",
              "       width=\"24px\">\n",
              "    <path d=\"M0 0h24v24H0V0z\" fill=\"none\"/>\n",
              "    <path d=\"M18.56 5.44l.94 2.06.94-2.06 2.06-.94-2.06-.94-.94-2.06-.94 2.06-2.06.94zm-11 1L8.5 8.5l.94-2.06 2.06-.94-2.06-.94L8.5 2.5l-.94 2.06-2.06.94zm10 10l.94 2.06.94-2.06 2.06-.94-2.06-.94-.94-2.06-.94 2.06-2.06.94z\"/><path d=\"M17.41 7.96l-1.37-1.37c-.4-.4-.92-.59-1.43-.59-.52 0-1.04.2-1.43.59L10.3 9.45l-7.72 7.72c-.78.78-.78 2.05 0 2.83L4 21.41c.39.39.9.59 1.41.59.51 0 1.02-.2 1.41-.59l7.78-7.78 2.81-2.81c.8-.78.8-2.07 0-2.86zM5.41 20L4 18.59l7.72-7.72 1.47 1.35L5.41 20z\"/>\n",
              "  </svg>\n",
              "      </button>\n",
              "      \n",
              "  <style>\n",
              "    .colab-df-container {\n",
              "      display:flex;\n",
              "      flex-wrap:wrap;\n",
              "      gap: 12px;\n",
              "    }\n",
              "\n",
              "    .colab-df-convert {\n",
              "      background-color: #E8F0FE;\n",
              "      border: none;\n",
              "      border-radius: 50%;\n",
              "      cursor: pointer;\n",
              "      display: none;\n",
              "      fill: #1967D2;\n",
              "      height: 32px;\n",
              "      padding: 0 0 0 0;\n",
              "      width: 32px;\n",
              "    }\n",
              "\n",
              "    .colab-df-convert:hover {\n",
              "      background-color: #E2EBFA;\n",
              "      box-shadow: 0px 1px 2px rgba(60, 64, 67, 0.3), 0px 1px 3px 1px rgba(60, 64, 67, 0.15);\n",
              "      fill: #174EA6;\n",
              "    }\n",
              "\n",
              "    [theme=dark] .colab-df-convert {\n",
              "      background-color: #3B4455;\n",
              "      fill: #D2E3FC;\n",
              "    }\n",
              "\n",
              "    [theme=dark] .colab-df-convert:hover {\n",
              "      background-color: #434B5C;\n",
              "      box-shadow: 0px 1px 3px 1px rgba(0, 0, 0, 0.15);\n",
              "      filter: drop-shadow(0px 1px 2px rgba(0, 0, 0, 0.3));\n",
              "      fill: #FFFFFF;\n",
              "    }\n",
              "  </style>\n",
              "\n",
              "      <script>\n",
              "        const buttonEl =\n",
              "          document.querySelector('#df-983c8380-9b06-40d1-9328-b6fe0ddaf0f8 button.colab-df-convert');\n",
              "        buttonEl.style.display =\n",
              "          google.colab.kernel.accessAllowed ? 'block' : 'none';\n",
              "\n",
              "        async function convertToInteractive(key) {\n",
              "          const element = document.querySelector('#df-983c8380-9b06-40d1-9328-b6fe0ddaf0f8');\n",
              "          const dataTable =\n",
              "            await google.colab.kernel.invokeFunction('convertToInteractive',\n",
              "                                                     [key], {});\n",
              "          if (!dataTable) return;\n",
              "\n",
              "          const docLinkHtml = 'Like what you see? Visit the ' +\n",
              "            '<a target=\"_blank\" href=https://colab.research.google.com/notebooks/data_table.ipynb>data table notebook</a>'\n",
              "            + ' to learn more about interactive tables.';\n",
              "          element.innerHTML = '';\n",
              "          dataTable['output_type'] = 'display_data';\n",
              "          await google.colab.output.renderOutput(dataTable, element);\n",
              "          const docLink = document.createElement('div');\n",
              "          docLink.innerHTML = docLinkHtml;\n",
              "          element.appendChild(docLink);\n",
              "        }\n",
              "      </script>\n",
              "    </div>\n",
              "  </div>\n",
              "  "
            ]
          },
          "metadata": {},
          "execution_count": 11
        }
      ]
    },
    {
      "cell_type": "markdown",
      "source": [
        "# Bivariate/Multivariate analysis:"
      ],
      "metadata": {
        "id": "qQyi-nW839dO"
      }
    },
    {
      "cell_type": "code",
      "source": [
        "import matplotlib.pyplot as plt\n",
        "bird_names = pd.unique(bird_df.bird_name)\n",
        "index = bird_df.bird_name == \"Nico\"\n",
        "x = bird_df.longitude[index]\n",
        "y = bird_df.latitude[index]\n",
        "plt.figure(figsize = (4,4))\n",
        "plt.plot(x,y,\"orange\")"
      ],
      "metadata": {
        "colab": {
          "base_uri": "https://localhost:8080/",
          "height": 386
        },
        "id": "SkedmZTo79DZ",
        "outputId": "5723f263-eb27-4f91-b690-865f75a67e6b"
      },
      "execution_count": null,
      "outputs": [
        {
          "output_type": "execute_result",
          "data": {
            "text/plain": [
              "[<matplotlib.lines.Line2D at 0x7f5fb8cf9270>]"
            ]
          },
          "metadata": {},
          "execution_count": 12
        },
        {
          "output_type": "display_data",
          "data": {
            "text/plain": [
              "<Figure size 400x400 with 1 Axes>"
            ],
            "image/png": "[encoded data removed]"
          },
          "metadata": {}
        }
      ]
    },
    {
      "cell_type": "code",
      "source": [
        "plt.figure(figsize = (4,4))\n",
        "for bird_name in bird_names:\n",
        "    index = bird_df.bird_name == bird_name\n",
        "    x = bird_df.longitude[index]\n",
        "    y = bird_df.latitude[index]\n",
        "    plt.plot(x,y,label=bird_name)\n",
        "plt.xlabel(\"Longitude\")\n",
        "plt.ylabel(\"Latitude\")\n",
        "plt.legend(loc=\"lower right\")\n",
        "plt.show()"
      ],
      "metadata": {
        "colab": {
          "base_uri": "https://localhost:8080/",
          "height": 388
        },
        "id": "u5uofzfq2QUT",
        "outputId": "2282fbe7-80cd-4168-bb6d-f87c56aa1f68"
      },
      "execution_count": null,
      "outputs": [
        {
          "output_type": "display_data",
          "data": {
            "text/plain": [
              "<Figure size 400x400 with 1 Axes>"
            ],
            "image/png": "[encoded data removed]"
          },
          "metadata": {}
        }
      ]
    },
    {
      "cell_type": "code",
      "source": [
        "import folium\n",
        "from IPython.core.display import HTML\n",
        "\n",
        "bird_groups = bird_df.groupby('bird_name')\n",
        "\n",
        "colors = {'Eric': 'red', 'Nico': 'blue', 'Sanne': 'green'}\n",
        "\n",
        "center_lat = bird_groups.get_group(list(bird_groups.groups.keys())[0]).iloc[0]['latitude']\n",
        "center_lon = bird_groups.get_group(list(bird_groups.groups.keys())[0]).iloc[0]['longitude']\n",
        "\n",
        "m = folium.Map(location=[center_lat, center_lon], zoom_start=10)\n",
        "\n",
        "for bird_name, group in bird_groups:\n",
        "    bird_path = list(zip(group['latitude'], group['longitude']))\n",
        "    color = colors[bird_name]\n",
        "    folium.PolyLine(locations=bird_path, color=color, weight=2.5, opacity=1).add_to(m)\n",
        "\n",
        "m.save('bird_path1.html')\n",
        "HTML('<iframe src=\"bird_path1.html\" width=\"100%\" height=\"500\"></iframe>')"
      ],
      "metadata": {
        "colab": {
          "base_uri": "https://localhost:8080/",
          "height": 580
        },
        "id": "jl_nDnXfHHUT",
        "outputId": "d93b9e23-caf3-4b46-cb1d-fc08d57c13f5"
      },
      "execution_count": null,
      "outputs": [
        {
          "output_type": "stream",
          "name": "stderr",
          "text": [
            "/usr/local/lib/python3.10/dist-packages/IPython/core/display.py:724: UserWarning: Consider using IPython.display.IFrame instead\n",
            "  warnings.warn(\"Consider using IPython.display.IFrame instead\")\n"
          ]
        },
        {
          "output_type": "execute_result",
          "data": {
            "text/plain": [
              "<IPython.core.display.HTML object>"
            ],
            "text/html": [
              "<iframe src=\"bird_path1.html\" width=\"100%\" height=\"500\"></iframe>"
            ]
          },
          "metadata": {},
          "execution_count": 14
        }
      ]
    },
    {
      "cell_type": "markdown",
      "source": [
        "#Preprocessing"
      ],
      "metadata": {
        "id": "ZjuHk0LD38wD"
      }
    },
    {
      "cell_type": "code",
      "source": [
        "# Split the data into separate datasets for each bird\n",
        "eric_df = bird_df[bird_df['bird_name'] == 'Eric']\n",
        "nico_df = bird_df[bird_df['bird_name'] == 'Nico']\n",
        "sanne_df = bird_df[bird_df['bird_name'] == 'Sanne']"
      ],
      "metadata": {
        "id": "Bg_xjxiH2Uk7"
      },
      "execution_count": null,
      "outputs": []
    },
    {
      "cell_type": "code",
      "source": [
        "# Add the next_latitude and next_longitude features\n",
        "eric_df['next_latitude'] = eric_df['latitude'].shift(-1)\n",
        "eric_df['next_longitude'] = eric_df['longitude'].shift(-1)\n",
        "nico_df['next_latitude'] = nico_df['latitude'].shift(-1)\n",
        "nico_df['next_longitude'] = nico_df['longitude'].shift(-1)\n",
        "sanne_df['next_latitude'] = sanne_df['latitude'].shift(-1)\n",
        "sanne_df['next_longitude'] = sanne_df['longitude'].shift(-1)"
      ],
      "metadata": {
        "colab": {
          "base_uri": "https://localhost:8080/"
        },
        "id": "zRDZgsA92lmo",
        "outputId": "b4305dce-9c97-40b9-ffd0-5c5fef7b5a62"
      },
      "execution_count": null,
      "outputs": [
        {
          "output_type": "stream",
          "name": "stderr",
          "text": [
            "<ipython-input-16-23d2fe072559>:2: SettingWithCopyWarning: \n",
            "A value is trying to be set on a copy of a slice from a DataFrame.\n",
            "Try using .loc[row_indexer,col_indexer] = value instead\n",
            "\n",
            "See the caveats in the documentation: https://pandas.pydata.org/pandas-docs/stable/user_guide/indexing.html#returning-a-view-versus-a-copy\n",
            "  eric_df['next_latitude'] = eric_df['latitude'].shift(-1)\n",
            "<ipython-input-16-23d2fe072559>:3: SettingWithCopyWarning: \n",
            "A value is trying to be set on a copy of a slice from a DataFrame.\n",
            "Try using .loc[row_indexer,col_indexer] = value instead\n",
            "\n",
            "See the caveats in the documentation: https://pandas.pydata.org/pandas-docs/stable/user_guide/indexing.html#returning-a-view-versus-a-copy\n",
            "  eric_df['next_longitude'] = eric_df['longitude'].shift(-1)\n",
            "<ipython-input-16-23d2fe072559>:4: SettingWithCopyWarning: \n",
            "A value is trying to be set on a copy of a slice from a DataFrame.\n",
            "Try using .loc[row_indexer,col_indexer] = value instead\n",
            "\n",
            "See the caveats in the documentation: https://pandas.pydata.org/pandas-docs/stable/user_guide/indexing.html#returning-a-view-versus-a-copy\n",
            "  nico_df['next_latitude'] = nico_df['latitude'].shift(-1)\n",
            "<ipython-input-16-23d2fe072559>:5: SettingWithCopyWarning: \n",
            "A value is trying to be set on a copy of a slice from a DataFrame.\n",
            "Try using .loc[row_indexer,col_indexer] = value instead\n",
            "\n",
            "See the caveats in the documentation: https://pandas.pydata.org/pandas-docs/stable/user_guide/indexing.html#returning-a-view-versus-a-copy\n",
            "  nico_df['next_longitude'] = nico_df['longitude'].shift(-1)\n",
            "<ipython-input-16-23d2fe072559>:6: SettingWithCopyWarning: \n",
            "A value is trying to be set on a copy of a slice from a DataFrame.\n",
            "Try using .loc[row_indexer,col_indexer] = value instead\n",
            "\n",
            "See the caveats in the documentation: https://pandas.pydata.org/pandas-docs/stable/user_guide/indexing.html#returning-a-view-versus-a-copy\n",
            "  sanne_df['next_latitude'] = sanne_df['latitude'].shift(-1)\n",
            "<ipython-input-16-23d2fe072559>:7: SettingWithCopyWarning: \n",
            "A value is trying to be set on a copy of a slice from a DataFrame.\n",
            "Try using .loc[row_indexer,col_indexer] = value instead\n",
            "\n",
            "See the caveats in the documentation: https://pandas.pydata.org/pandas-docs/stable/user_guide/indexing.html#returning-a-view-versus-a-copy\n",
            "  sanne_df['next_longitude'] = sanne_df['longitude'].shift(-1)\n"
          ]
        }
      ]
    },
    {
      "cell_type": "code",
      "source": [
        "# Drop the last row of each dataset to remove NaN values in the target variable\n",
        "eric_df.drop(eric_df.tail(1).index, inplace=True)\n",
        "nico_df.drop(nico_df.tail(1).index, inplace=True)\n",
        "sanne_df.drop(sanne_df.tail(1).index, inplace=True)"
      ],
      "metadata": {
        "colab": {
          "base_uri": "https://localhost:8080/"
        },
        "id": "YDoylDF_2tcp",
        "outputId": "a3bdacda-b164-4e1c-ffb2-8d5d581d964a"
      },
      "execution_count": null,
      "outputs": [
        {
          "output_type": "stream",
          "name": "stderr",
          "text": [
            "<ipython-input-17-cd07ed182568>:2: SettingWithCopyWarning: \n",
            "A value is trying to be set on a copy of a slice from a DataFrame\n",
            "\n",
            "See the caveats in the documentation: https://pandas.pydata.org/pandas-docs/stable/user_guide/indexing.html#returning-a-view-versus-a-copy\n",
            "  eric_df.drop(eric_df.tail(1).index, inplace=True)\n",
            "<ipython-input-17-cd07ed182568>:3: SettingWithCopyWarning: \n",
            "A value is trying to be set on a copy of a slice from a DataFrame\n",
            "\n",
            "See the caveats in the documentation: https://pandas.pydata.org/pandas-docs/stable/user_guide/indexing.html#returning-a-view-versus-a-copy\n",
            "  nico_df.drop(nico_df.tail(1).index, inplace=True)\n",
            "<ipython-input-17-cd07ed182568>:4: SettingWithCopyWarning: \n",
            "A value is trying to be set on a copy of a slice from a DataFrame\n",
            "\n",
            "See the caveats in the documentation: https://pandas.pydata.org/pandas-docs/stable/user_guide/indexing.html#returning-a-view-versus-a-copy\n",
            "  sanne_df.drop(sanne_df.tail(1).index, inplace=True)\n"
          ]
        }
      ]
    },
    {
      "cell_type": "code",
      "source": [
        "bird_df_new = pd.concat([eric_df, nico_df, sanne_df])"
      ],
      "metadata": {
        "id": "gE2nXz9s249T"
      },
      "execution_count": null,
      "outputs": []
    },
    {
      "cell_type": "code",
      "source": [
        "bird_df_new.sample(1)"
      ],
      "metadata": {
        "colab": {
          "base_uri": "https://localhost:8080/",
          "height": 125
        },
        "id": "wPVBWh3f3AWQ",
        "outputId": "dc346aa3-9214-45ca-acd4-d13f00497f06"
      },
      "execution_count": null,
      "outputs": [
        {
          "output_type": "execute_result",
          "data": {
            "text/plain": [
              "       altitude               date_time  device_info_serial  direction  \\\n",
              "19736        -1  2014-04-29 18:40:13+00                 851  10.311695   \n",
              "\n",
              "       latitude  longitude  speed_2d bird_name  next_latitude  next_longitude  \n",
              "19736  51.34651   3.179788  2.764073      Eric      51.346282        3.179896  "
            ],
            "text/html": [
              "\n",
              "  <div id=\"df-c7ebbc1a-ea00-439b-b84b-383a641f129d\">\n",
              "    <div class=\"colab-df-container\">\n",
              "      <div>\n",
              "<style scoped>\n",
              "    .dataframe tbody tr th:only-of-type {\n",
              "        vertical-align: middle;\n",
              "    }\n",
              "\n",
              "    .dataframe tbody tr th {\n",
              "        vertical-align: top;\n",
              "    }\n",
              "\n",
              "    .dataframe thead th {\n",
              "        text-align: right;\n",
              "    }\n",
              "</style>\n",
              "<table border=\"1\" class=\"dataframe\">\n",
              "  <thead>\n",
              "    <tr style=\"text-align: right;\">\n",
              "      <th></th>\n",
              "      <th>altitude</th>\n",
              "      <th>date_time</th>\n",
              "      <th>device_info_serial</th>\n",
              "      <th>direction</th>\n",
              "      <th>latitude</th>\n",
              "      <th>longitude</th>\n",
              "      <th>speed_2d</th>\n",
              "      <th>bird_name</th>\n",
              "      <th>next_latitude</th>\n",
              "      <th>next_longitude</th>\n",
              "    </tr>\n",
              "  </thead>\n",
              "  <tbody>\n",
              "    <tr>\n",
              "      <th>19736</th>\n",
              "      <td>-1</td>\n",
              "      <td>2014-04-29 18:40:13+00</td>\n",
              "      <td>851</td>\n",
              "      <td>10.311695</td>\n",
              "      <td>51.34651</td>\n",
              "      <td>3.179788</td>\n",
              "      <td>2.764073</td>\n",
              "      <td>Eric</td>\n",
              "      <td>51.346282</td>\n",
              "      <td>3.179896</td>\n",
              "    </tr>\n",
              "  </tbody>\n",
              "</table>\n",
              "</div>\n",
              "      <button class=\"colab-df-convert\" onclick=\"convertToInteractive('df-c7ebbc1a-ea00-439b-b84b-383a641f129d')\"\n",
              "              title=\"Convert this dataframe to an interactive table.\"\n",
              "              style=\"display:none;\">\n",
              "        \n",
              "  <svg xmlns=\"http://www.w3.org/2000/svg\" height=\"24px\"viewBox=\"0 0 24 24\"\n",
              "       width=\"24px\">\n",
              "    <path d=\"M0 0h24v24H0V0z\" fill=\"none\"/>\n",
              "    <path d=\"M18.56 5.44l.94 2.06.94-2.06 2.06-.94-2.06-.94-.94-2.06-.94 2.06-2.06.94zm-11 1L8.5 8.5l.94-2.06 2.06-.94-2.06-.94L8.5 2.5l-.94 2.06-2.06.94zm10 10l.94 2.06.94-2.06 2.06-.94-2.06-.94-.94-2.06-.94 2.06-2.06.94z\"/><path d=\"M17.41 7.96l-1.37-1.37c-.4-.4-.92-.59-1.43-.59-.52 0-1.04.2-1.43.59L10.3 9.45l-7.72 7.72c-.78.78-.78 2.05 0 2.83L4 21.41c.39.39.9.59 1.41.59.51 0 1.02-.2 1.41-.59l7.78-7.78 2.81-2.81c.8-.78.8-2.07 0-2.86zM5.41 20L4 18.59l7.72-7.72 1.47 1.35L5.41 20z\"/>\n",
              "  </svg>\n",
              "      </button>\n",
              "      \n",
              "  <style>\n",
              "    .colab-df-container {\n",
              "      display:flex;\n",
              "      flex-wrap:wrap;\n",
              "      gap: 12px;\n",
              "    }\n",
              "\n",
              "    .colab-df-convert {\n",
              "      background-color: #E8F0FE;\n",
              "      border: none;\n",
              "      border-radius: 50%;\n",
              "      cursor: pointer;\n",
              "      display: none;\n",
              "      fill: #1967D2;\n",
              "      height: 32px;\n",
              "      padding: 0 0 0 0;\n",
              "      width: 32px;\n",
              "    }\n",
              "\n",
              "    .colab-df-convert:hover {\n",
              "      background-color: #E2EBFA;\n",
              "      box-shadow: 0px 1px 2px rgba(60, 64, 67, 0.3), 0px 1px 3px 1px rgba(60, 64, 67, 0.15);\n",
              "      fill: #174EA6;\n",
              "    }\n",
              "\n",
              "    [theme=dark] .colab-df-convert {\n",
              "      background-color: #3B4455;\n",
              "      fill: #D2E3FC;\n",
              "    }\n",
              "\n",
              "    [theme=dark] .colab-df-convert:hover {\n",
              "      background-color: #434B5C;\n",
              "      box-shadow: 0px 1px 3px 1px rgba(0, 0, 0, 0.15);\n",
              "      filter: drop-shadow(0px 1px 2px rgba(0, 0, 0, 0.3));\n",
              "      fill: #FFFFFF;\n",
              "    }\n",
              "  </style>\n",
              "\n",
              "      <script>\n",
              "        const buttonEl =\n",
              "          document.querySelector('#df-c7ebbc1a-ea00-439b-b84b-383a641f129d button.colab-df-convert');\n",
              "        buttonEl.style.display =\n",
              "          google.colab.kernel.accessAllowed ? 'block' : 'none';\n",
              "\n",
              "        async function convertToInteractive(key) {\n",
              "          const element = document.querySelector('#df-c7ebbc1a-ea00-439b-b84b-383a641f129d');\n",
              "          const dataTable =\n",
              "            await google.colab.kernel.invokeFunction('convertToInteractive',\n",
              "                                                     [key], {});\n",
              "          if (!dataTable) return;\n",
              "\n",
              "          const docLinkHtml = 'Like what you see? Visit the ' +\n",
              "            '<a target=\"_blank\" href=https://colab.research.google.com/notebooks/data_table.ipynb>data table notebook</a>'\n",
              "            + ' to learn more about interactive tables.';\n",
              "          element.innerHTML = '';\n",
              "          dataTable['output_type'] = 'display_data';\n",
              "          await google.colab.output.renderOutput(dataTable, element);\n",
              "          const docLink = document.createElement('div');\n",
              "          docLink.innerHTML = docLinkHtml;\n",
              "          element.appendChild(docLink);\n",
              "        }\n",
              "      </script>\n",
              "    </div>\n",
              "  </div>\n",
              "  "
            ]
          },
          "metadata": {},
          "execution_count": 19
        }
      ]
    },
    {
      "cell_type": "markdown",
      "source": [
        "#Applying ML Methods to predict the next location of the bird"
      ],
      "metadata": {
        "id": "QUjA_UD1jMa_"
      }
    },
    {
      "cell_type": "code",
      "source": [
        "# Define the features and target\n",
        "X = bird_df_new[['altitude','direction','latitude','longitude','speed_2d']]\n",
        "y = bird_df_new[['next_latitude', 'next_longitude']]"
      ],
      "metadata": {
        "id": "QfL9PaNgfWPX"
      },
      "execution_count": null,
      "outputs": []
    },
    {
      "cell_type": "code",
      "source": [
        "from sklearn.model_selection import train_test_split\n",
        "X_train, X_test, y_train, y_test = train_test_split(X, y, test_size=0.2, random_state=42)"
      ],
      "metadata": {
        "id": "kVlGdug4gHwa"
      },
      "execution_count": null,
      "outputs": []
    },
    {
      "cell_type": "markdown",
      "source": [
        "###1) Decision Tree Classifier"
      ],
      "metadata": {
        "id": "5mYTABzejUXj"
      }
    },
    {
      "cell_type": "code",
      "source": [
        "# Train the decision tree model\n",
        "from sklearn.tree import DecisionTreeRegressor\n",
        "dt_model = DecisionTreeRegressor()\n",
        "dt_model.fit(X_train, y_train)"
      ],
      "metadata": {
        "colab": {
          "base_uri": "https://localhost:8080/",
          "height": 74
        },
        "id": "6ShDtih2gReG",
        "outputId": "9a9c1133-b515-4acd-8e7a-8eccec4acde1"
      },
      "execution_count": null,
      "outputs": [
        {
          "output_type": "execute_result",
          "data": {
            "text/plain": [
              "DecisionTreeRegressor()"
            ],
            "text/html": [
              "<style>#sk-container-id-1 {color: black;background-color: white;}#sk-container-id-1 pre{padding: 0;}#sk-container-id-1 div.sk-toggleable {background-color: white;}#sk-container-id-1 label.sk-toggleable__label {cursor: pointer;display: block;width: 100%;margin-bottom: 0;padding: 0.3em;box-sizing: border-box;text-align: center;}#sk-container-id-1 label.sk-toggleable__label-arrow:before {content: \"▸\";float: left;margin-right: 0.25em;color: #696969;}#sk-container-id-1 label.sk-toggleable__label-arrow:hover:before {color: black;}#sk-container-id-1 div.sk-estimator:hover label.sk-toggleable__label-arrow:before {color: black;}#sk-container-id-1 div.sk-toggleable__content {max-height: 0;max-width: 0;overflow: hidden;text-align: left;background-color: #f0f8ff;}#sk-container-id-1 div.sk-toggleable__content pre {margin: 0.2em;color: black;border-radius: 0.25em;background-color: #f0f8ff;}#sk-container-id-1 input.sk-toggleable__control:checked~div.sk-toggleable__content {max-height: 200px;max-width: 100%;overflow: auto;}#sk-container-id-1 input.sk-toggleable__control:checked~label.sk-toggleable__label-arrow:before {content: \"▾\";}#sk-container-id-1 div.sk-estimator input.sk-toggleable__control:checked~label.sk-toggleable__label {background-color: #d4ebff;}#sk-container-id-1 div.sk-label input.sk-toggleable__control:checked~label.sk-toggleable__label {background-color: #d4ebff;}#sk-container-id-1 input.sk-hidden--visually {border: 0;clip: rect(1px 1px 1px 1px);clip: rect(1px, 1px, 1px, 1px);height: 1px;margin: -1px;overflow: hidden;padding: 0;position: absolute;width: 1px;}#sk-container-id-1 div.sk-estimator {font-family: monospace;background-color: #f0f8ff;border: 1px dotted black;border-radius: 0.25em;box-sizing: border-box;margin-bottom: 0.5em;}#sk-container-id-1 div.sk-estimator:hover {background-color: #d4ebff;}#sk-container-id-1 div.sk-parallel-item::after {content: \"\";width: 100%;border-bottom: 1px solid gray;flex-grow: 1;}#sk-container-id-1 div.sk-label:hover label.sk-toggleable__label {background-color: #d4ebff;}#sk-container-id-1 div.sk-serial::before {content: \"\";position: absolute;border-left: 1px solid gray;box-sizing: border-box;top: 0;bottom: 0;left: 50%;z-index: 0;}#sk-container-id-1 div.sk-serial {display: flex;flex-direction: column;align-items: center;background-color: white;padding-right: 0.2em;padding-left: 0.2em;position: relative;}#sk-container-id-1 div.sk-item {position: relative;z-index: 1;}#sk-container-id-1 div.sk-parallel {display: flex;align-items: stretch;justify-content: center;background-color: white;position: relative;}#sk-container-id-1 div.sk-item::before, #sk-container-id-1 div.sk-parallel-item::before {content: \"\";position: absolute;border-left: 1px solid gray;box-sizing: border-box;top: 0;bottom: 0;left: 50%;z-index: -1;}#sk-container-id-1 div.sk-parallel-item {display: flex;flex-direction: column;z-index: 1;position: relative;background-color: white;}#sk-container-id-1 div.sk-parallel-item:first-child::after {align-self: flex-end;width: 50%;}#sk-container-id-1 div.sk-parallel-item:last-child::after {align-self: flex-start;width: 50%;}#sk-container-id-1 div.sk-parallel-item:only-child::after {width: 0;}#sk-container-id-1 div.sk-dashed-wrapped {border: 1px dashed gray;margin: 0 0.4em 0.5em 0.4em;box-sizing: border-box;padding-bottom: 0.4em;background-color: white;}#sk-container-id-1 div.sk-label label {font-family: monospace;font-weight: bold;display: inline-block;line-height: 1.2em;}#sk-container-id-1 div.sk-label-container {text-align: center;}#sk-container-id-1 div.sk-container {/* jupyter's `normalize.less` sets `[hidden] { display: none; }` but bootstrap.min.css set `[hidden] { display: none !important; }` so we also need the `!important` here to be able to override the default hidden behavior on the sphinx rendered scikit-learn.org. See: https://github.com/scikit-learn/scikit-learn/issues/21755 */display: inline-block !important;position: relative;}#sk-container-id-1 div.sk-text-repr-fallback {display: none;}</style><div id=\"sk-container-id-1\" class=\"sk-top-container\"><div class=\"sk-text-repr-fallback\"><pre>DecisionTreeRegressor()</pre><b>In a Jupyter environment, please rerun this cell to show the HTML representation or trust the notebook. <br />On GitHub, the HTML representation is unable to render, please try loading this page with nbviewer.org.</b></div><div class=\"sk-container\" hidden><div class=\"sk-item\"><div class=\"sk-estimator sk-toggleable\"><input class=\"sk-toggleable__control sk-hidden--visually\" id=\"sk-estimator-id-1\" type=\"checkbox\" checked><label for=\"sk-estimator-id-1\" class=\"sk-toggleable__label sk-toggleable__label-arrow\">DecisionTreeRegressor</label><div class=\"sk-toggleable__content\"><pre>DecisionTreeRegressor()</pre></div></div></div></div></div>"
            ]
          },
          "metadata": {},
          "execution_count": 22
        }
      ]
    },
    {
      "cell_type": "code",
      "source": [
        "y_pred = dt_model.predict(X_test)"
      ],
      "metadata": {
        "id": "aklmLBFIgYAw"
      },
      "execution_count": null,
      "outputs": []
    },
    {
      "cell_type": "code",
      "source": [
        "# Evaluate the model using the mean squared error\n",
        "from sklearn.metrics import mean_squared_error\n",
        "mse = mean_squared_error(y_test, y_pred)\n",
        "rmse = np.sqrt(mse)\n",
        "print(\"Root Mean Squared Error:\", rmse)"
      ],
      "metadata": {
        "colab": {
          "base_uri": "https://localhost:8080/"
        },
        "id": "6ulMP0VsgixJ",
        "outputId": "357d7d58-1d35-4c63-e704-80a83ca07897"
      },
      "execution_count": null,
      "outputs": [
        {
          "output_type": "stream",
          "name": "stdout",
          "text": [
            "Root Mean Squared Error: 0.03689889659229241\n"
          ]
        }
      ]
    },
    {
      "cell_type": "markdown",
      "source": [
        "###2) Random forest classifier"
      ],
      "metadata": {
        "id": "8aclte_NgN31"
      }
    },
    {
      "cell_type": "code",
      "source": [
        "from sklearn.multioutput import MultiOutputRegressor\n",
        "from sklearn.ensemble import RandomForestRegressor\n",
        "rf_model = RandomForestRegressor(n_estimators=200, max_depth=7, random_state=42)\n",
        "\n",
        "multioutput_rf_model = MultiOutputRegressor(rf_model)\n",
        "\n",
        "multioutput_rf_model.fit(X_train, y_train)\n",
        "\n",
        "# make predictions\n",
        "y_pred_2 = multioutput_rf_model.predict(X_test)"
      ],
      "metadata": {
        "id": "eBHxFXkwgWQG"
      },
      "execution_count": null,
      "outputs": []
    },
    {
      "cell_type": "code",
      "source": [
        "#Hyperparameter tuning\n",
        "# from sklearn.model_selection import GridSearchCV\n",
        "# param_grid = {'estimator__n_estimators': [100, 200, 500],\n",
        "#               'estimator__max_depth': [3, 5, 7, 9]}\n",
        "# grid_search = GridSearchCV(multioutput_rf_model, param_grid=param_grid, cv=5)\n",
        "\n",
        "# # fit the GridSearchCV object on the entire X_train and y_train arrays\n",
        "# grid_search.fit(X_train, y_train)\n",
        "# print(\"Best parameters:\", grid_search.best_params_)\n",
        "# print(\"Best score:\", grid_search.best_score_)"
      ],
      "metadata": {
        "id": "XfNfT5c-jV35"
      },
      "execution_count": null,
      "outputs": []
    },
    {
      "cell_type": "code",
      "source": [
        "rf_model = RandomForestRegressor(n_estimators=500, max_depth=7, random_state=42)\n",
        "\n",
        "# create a MultiOutputRegressor object and pass the RandomForestRegressor as an argument\n",
        "multioutput_rf_model = MultiOutputRegressor(rf_model)\n",
        "\n",
        "# fit the multioutput_rf_model on the entire X_train and y_train arrays\n",
        "multioutput_rf_model.fit(X_train, y_train)\n",
        "\n",
        "# make predictions\n",
        "y_pred_2 = multioutput_rf_model.predict(X_test)"
      ],
      "metadata": {
        "id": "cXMepD_jsbEg"
      },
      "execution_count": null,
      "outputs": []
    },
    {
      "cell_type": "code",
      "source": [
        "# Evaluate the model using the mean squared error\n",
        "from sklearn.metrics import mean_squared_error\n",
        "mse = mean_squared_error(y_test, y_pred_2)\n",
        "rmse = np.sqrt(mse)\n",
        "print(\"Mean Squared Error: \",mse)\n",
        "print(\"Root Mean Squared Error:\", rmse)"
      ],
      "metadata": {
        "colab": {
          "base_uri": "https://localhost:8080/"
        },
        "id": "ATEEM76Nin72",
        "outputId": "b8bc6b6d-51f9-4d2e-c739-3e33dfdfa5ae"
      },
      "execution_count": null,
      "outputs": [
        {
          "output_type": "stream",
          "name": "stdout",
          "text": [
            "Mean Squared Error:  0.0023956631350064064\n",
            "Root Mean Squared Error: 0.048945511898502055\n"
          ]
        }
      ]
    },
    {
      "cell_type": "markdown",
      "source": [
        "###3)Adaboost"
      ],
      "metadata": {
        "id": "kX2zgZhu5rcH"
      }
    },
    {
      "cell_type": "code",
      "source": [
        "from sklearn.multioutput import MultiOutputRegressor\n",
        "from sklearn.ensemble import AdaBoostRegressor\n",
        "from sklearn.model_selection import GridSearchCV\n",
        "\n",
        "#Hyperparameter tuning\n",
        "# # create an AdaBoostRegressor object\n",
        "# ada_model = AdaBoostRegressor()\n",
        "\n",
        "# # create a MultiOutputRegressor object and pass the AdaBoostRegressor as an argument\n",
        "# multioutput_ada_model = MultiOutputRegressor(ada_model)\n",
        "\n",
        "# # define a range of hyperparameters to search over\n",
        "# param_grid = {'estimator__n_estimators': [100, 200, 300],\n",
        "#               'estimator__learning_rate': [0.01, 0.1, 0.2]}\n",
        "\n",
        "# # create a GridSearchCV object with the multioutput_ada_model and the param_grid\n",
        "# grid_search = GridSearchCV(multioutput_ada_model, param_grid=param_grid, cv=5)\n",
        "\n",
        "# # fit the GridSearchCV object on the entire X_train and y_train arrays\n",
        "# grid_search.fit(X_train, y_train)\n",
        "\n",
        "# print the best parameters and the best score\n",
        "# print(\"Best parameters:\", grid_search.best_params_)\n",
        "# print(\"Best score:\", grid_search.best_score_)"
      ],
      "metadata": {
        "id": "9mGQaWbV5oW8"
      },
      "execution_count": null,
      "outputs": []
    },
    {
      "cell_type": "code",
      "source": [
        "# create an AdaBoostRegressor object\n",
        "ada_model = AdaBoostRegressor(n_estimators=300, learning_rate=0.2, random_state=42)\n",
        "\n",
        "# create a MultiOutputRegressor object and pass the AdaBoostRegressor as an argument\n",
        "multioutput_ada_model = MultiOutputRegressor(ada_model)\n",
        "\n",
        "# fit the multioutput_ada_model on the entire X_train and y_train arrays\n",
        "multioutput_ada_model.fit(X_train, y_train)\n",
        "\n",
        "# make predictions\n",
        "y_pred_3 = multioutput_ada_model.predict(X_test)"
      ],
      "metadata": {
        "id": "ZmoNZbPp_cKU"
      },
      "execution_count": null,
      "outputs": []
    },
    {
      "cell_type": "code",
      "source": [
        "# Evaluate the model using the mean squared error\n",
        "from sklearn.metrics import mean_squared_error\n",
        "mse = mean_squared_error(y_test, y_pred_3)\n",
        "rmse = np.sqrt(mse)\n",
        "print(\"Mean Squared Error: \",mse)\n",
        "print(\"Root Mean Squared Error:\", rmse)"
      ],
      "metadata": {
        "colab": {
          "base_uri": "https://localhost:8080/"
        },
        "id": "GiI_Lk26Ki3a",
        "outputId": "26811de3-a5f3-4630-f503-449f9a28e725"
      },
      "execution_count": null,
      "outputs": [
        {
          "output_type": "stream",
          "name": "stdout",
          "text": [
            "Mean Squared Error:  0.26827232350052466\n",
            "Root Mean Squared Error: 0.5179501168071349\n"
          ]
        }
      ]
    },
    {
      "cell_type": "markdown",
      "source": [
        "###4)XGBoost"
      ],
      "metadata": {
        "id": "1p__kNsq6HmI"
      }
    },
    {
      "cell_type": "code",
      "source": [
        "from sklearn.multioutput import MultiOutputRegressor\n",
        "from xgboost import XGBRegressor\n",
        "from sklearn.model_selection import GridSearchCV\n",
        "\n",
        "#Hyperparameter tuning\n",
        "# # create an XGBRegressor object\n",
        "# xgb_model = XGBRegressor()\n",
        "\n",
        "# # create a MultiOutputRegressor object and pass the XGBRegressor as an argument\n",
        "# multioutput_xgb_model = MultiOutputRegressor(xgb_model)\n",
        "\n",
        "# # define a range of hyperparameters to search over\n",
        "# param_grid = {'estimator__n_estimators': [100, 200, 500],\n",
        "#               'estimator__learning_rate': [0.01, 0.1, 0.2]}\n",
        "\n",
        "# # create a GridSearchCV object with the multioutput_xgb_model and the param_grid\n",
        "# grid_search = GridSearchCV(multioutput_xgb_model, param_grid=param_grid, cv=5)\n",
        "\n",
        "# # fit the GridSearchCV object on the entire X_train and y_train arrays\n",
        "# grid_search.fit(X_train, y_train)\n",
        "\n",
        "# # print the best parameters and the best score\n",
        "# print(\"Best parameters:\", grid_search.best_params_)\n",
        "# print(\"Best score:\", grid_search.best_score_)"
      ],
      "metadata": {
        "id": "_97WuwYX5qb9"
      },
      "execution_count": null,
      "outputs": []
    },
    {
      "cell_type": "code",
      "source": [
        "# create an XGBRegressor object\n",
        "xgb_model = XGBRegressor(n_estimators=500, learning_rate=0.1, max_depth=5, random_state=42)\n",
        "\n",
        "# create a MultiOutputRegressor object and pass the XGBRegressor as an argument\n",
        "multioutput_xgb_model = MultiOutputRegressor(xgb_model)\n",
        "\n",
        "# fit the multioutput_xgb_model on the entire X_train and y_train arrays\n",
        "multioutput_xgb_model.fit(X_train, y_train)\n",
        "\n",
        "# make predictions\n",
        "y_pred_4 = multioutput_xgb_model.predict(X_test)"
      ],
      "metadata": {
        "id": "y3w4qEy7JS2B"
      },
      "execution_count": null,
      "outputs": []
    },
    {
      "cell_type": "code",
      "source": [
        "# Evaluate the model using the mean squared error\n",
        "from sklearn.metrics import mean_squared_error\n",
        "mse = mean_squared_error(y_test, y_pred_4)\n",
        "rmse = np.sqrt(mse)\n",
        "print(\"Mean Squared Error: \",mse)\n",
        "print(\"Root Mean Squared Error:\", rmse)"
      ],
      "metadata": {
        "colab": {
          "base_uri": "https://localhost:8080/"
        },
        "id": "1cEaQrU9K2o9",
        "outputId": "592fe5ec-b3ae-429b-87f4-79eb8b61f0ac"
      },
      "execution_count": null,
      "outputs": [
        {
          "output_type": "stream",
          "name": "stdout",
          "text": [
            "Mean Squared Error:  0.0004949805133399616\n",
            "Root Mean Squared Error: 0.022248157526859647\n"
          ]
        }
      ]
    },
    {
      "cell_type": "markdown",
      "source": [
        "# Performance evaluation"
      ],
      "metadata": {
        "id": "iQqGFygpJkKS"
      }
    },
    {
      "cell_type": "code",
      "source": [
        "import matplotlib.pyplot as plt\n",
        "# create a figure with two subplots\n",
        "fig, axs = plt.subplots(1, 4, figsize=(16, 4))\n",
        "\n",
        "# plot for decision tree\n",
        "axs[0].scatter(y_test.iloc[:, 1], y_test.iloc[:, 0], color='green', alpha=0.5, label='True Locations')\n",
        "axs[0].scatter(y_pred[:, 1], y_pred[:, 0], color='red', alpha=0.5, label='Predicted Locations')\n",
        "axs[0].set_xlabel('Longitude')\n",
        "axs[0].set_ylabel('Latitude')\n",
        "axs[0].legend()\n",
        "axs[0].set_title('Decision tree')\n",
        "\n",
        "# plot for random forest\n",
        "axs[1].scatter(y_test.iloc[:, 1], y_test.iloc[:, 0], color='green', alpha=0.5, label='True Locations')\n",
        "axs[1].scatter(y_pred_2[:, 1], y_pred_2[:, 0], color='red', alpha=0.5, label='Predicted Locations')\n",
        "axs[1].set_xlabel('Longitude')\n",
        "axs[1].set_ylabel('Latitude')\n",
        "axs[1].legend()\n",
        "axs[1].set_title('Random Forest')\n",
        "\n",
        "# plot for AdaBoost\n",
        "axs[2].scatter(y_test.iloc[:, 1], y_test.iloc[:, 0], color='green', alpha=0.5, label='True Locations')\n",
        "axs[2].scatter(y_pred_3[:, 1], y_pred_3[:, 0], color='red', alpha=0.5, label='Predicted Locations')\n",
        "axs[2].set_xlabel('Longitude')\n",
        "axs[2].set_ylabel('Latitude')\n",
        "axs[2].legend()\n",
        "axs[2].set_title('AdaBoost')\n",
        "\n",
        "\n",
        "# plot for XGBoost\n",
        "axs[3].scatter(y_test.iloc[:, 1], y_test.iloc[:, 0], color='green', alpha=0.5, label='True Locations')\n",
        "axs[3].scatter(y_pred_4[:, 1], y_pred_4[:, 0], color='red', alpha=0.5, label='Predicted Locations')\n",
        "axs[3].set_xlabel('Longitude')\n",
        "axs[3].set_ylabel('Latitude')\n",
        "axs[3].legend()\n",
        "axs[3].set_title('XGBoost')\n",
        "\n",
        "# display the figure\n",
        "plt.show()"
      ],
      "metadata": {
        "colab": {
          "base_uri": "https://localhost:8080/",
          "height": 352
        },
        "id": "ul1zOHz18d6B",
        "outputId": "42dc7872-ebeb-44c7-810b-5dd59c4e32ac"
      },
      "execution_count": null,
      "outputs": [
        {
          "output_type": "display_data",
          "data": {
            "text/plain": [
              "<Figure size 1600x400 with 4 Axes>"
            ],
            "image/png": "[encoded data removed]"
          },
          "metadata": {}
        }
      ]
    },
    {
      "cell_type": "code",
      "source": [
        "X_test.head(1)"
      ],
      "metadata": {
        "colab": {
          "base_uri": "https://localhost:8080/",
          "height": 81
        },
        "id": "TlBDpUCrmIlF",
        "outputId": "897d9210-00da-41c7-eecf-ff734680b6a3"
      },
      "execution_count": null,
      "outputs": [
        {
          "output_type": "execute_result",
          "data": {
            "text/plain": [
              "       altitude  direction  latitude  longitude  speed_2d\n",
              "41229        61 -63.500159  50.36492    3.02822  2.845385"
            ],
            "text/html": [
              "\n",
              "  <div id=\"df-378c35a4-6b58-41f6-b2fd-72226fca9a4d\">\n",
              "    <div class=\"colab-df-container\">\n",
              "      <div>\n",
              "<style scoped>\n",
              "    .dataframe tbody tr th:only-of-type {\n",
              "        vertical-align: middle;\n",
              "    }\n",
              "\n",
              "    .dataframe tbody tr th {\n",
              "        vertical-align: top;\n",
              "    }\n",
              "\n",
              "    .dataframe thead th {\n",
              "        text-align: right;\n",
              "    }\n",
              "</style>\n",
              "<table border=\"1\" class=\"dataframe\">\n",
              "  <thead>\n",
              "    <tr style=\"text-align: right;\">\n",
              "      <th></th>\n",
              "      <th>altitude</th>\n",
              "      <th>direction</th>\n",
              "      <th>latitude</th>\n",
              "      <th>longitude</th>\n",
              "      <th>speed_2d</th>\n",
              "    </tr>\n",
              "  </thead>\n",
              "  <tbody>\n",
              "    <tr>\n",
              "      <th>41229</th>\n",
              "      <td>61</td>\n",
              "      <td>-63.500159</td>\n",
              "      <td>50.36492</td>\n",
              "      <td>3.02822</td>\n",
              "      <td>2.845385</td>\n",
              "    </tr>\n",
              "  </tbody>\n",
              "</table>\n",
              "</div>\n",
              "      <button class=\"colab-df-convert\" onclick=\"convertToInteractive('df-378c35a4-6b58-41f6-b2fd-72226fca9a4d')\"\n",
              "              title=\"Convert this dataframe to an interactive table.\"\n",
              "              style=\"display:none;\">\n",
              "        \n",
              "  <svg xmlns=\"http://www.w3.org/2000/svg\" height=\"24px\"viewBox=\"0 0 24 24\"\n",
              "       width=\"24px\">\n",
              "    <path d=\"M0 0h24v24H0V0z\" fill=\"none\"/>\n",
              "    <path d=\"M18.56 5.44l.94 2.06.94-2.06 2.06-.94-2.06-.94-.94-2.06-.94 2.06-2.06.94zm-11 1L8.5 8.5l.94-2.06 2.06-.94-2.06-.94L8.5 2.5l-.94 2.06-2.06.94zm10 10l.94 2.06.94-2.06 2.06-.94-2.06-.94-.94-2.06-.94 2.06-2.06.94z\"/><path d=\"M17.41 7.96l-1.37-1.37c-.4-.4-.92-.59-1.43-.59-.52 0-1.04.2-1.43.59L10.3 9.45l-7.72 7.72c-.78.78-.78 2.05 0 2.83L4 21.41c.39.39.9.59 1.41.59.51 0 1.02-.2 1.41-.59l7.78-7.78 2.81-2.81c.8-.78.8-2.07 0-2.86zM5.41 20L4 18.59l7.72-7.72 1.47 1.35L5.41 20z\"/>\n",
              "  </svg>\n",
              "      </button>\n",
              "      \n",
              "  <style>\n",
              "    .colab-df-container {\n",
              "      display:flex;\n",
              "      flex-wrap:wrap;\n",
              "      gap: 12px;\n",
              "    }\n",
              "\n",
              "    .colab-df-convert {\n",
              "      background-color: #E8F0FE;\n",
              "      border: none;\n",
              "      border-radius: 50%;\n",
              "      cursor: pointer;\n",
              "      display: none;\n",
              "      fill: #1967D2;\n",
              "      height: 32px;\n",
              "      padding: 0 0 0 0;\n",
              "      width: 32px;\n",
              "    }\n",
              "\n",
              "    .colab-df-convert:hover {\n",
              "      background-color: #E2EBFA;\n",
              "      box-shadow: 0px 1px 2px rgba(60, 64, 67, 0.3), 0px 1px 3px 1px rgba(60, 64, 67, 0.15);\n",
              "      fill: #174EA6;\n",
              "    }\n",
              "\n",
              "    [theme=dark] .colab-df-convert {\n",
              "      background-color: #3B4455;\n",
              "      fill: #D2E3FC;\n",
              "    }\n",
              "\n",
              "    [theme=dark] .colab-df-convert:hover {\n",
              "      background-color: #434B5C;\n",
              "      box-shadow: 0px 1px 3px 1px rgba(0, 0, 0, 0.15);\n",
              "      filter: drop-shadow(0px 1px 2px rgba(0, 0, 0, 0.3));\n",
              "      fill: #FFFFFF;\n",
              "    }\n",
              "  </style>\n",
              "\n",
              "      <script>\n",
              "        const buttonEl =\n",
              "          document.querySelector('#df-378c35a4-6b58-41f6-b2fd-72226fca9a4d button.colab-df-convert');\n",
              "        buttonEl.style.display =\n",
              "          google.colab.kernel.accessAllowed ? 'block' : 'none';\n",
              "\n",
              "        async function convertToInteractive(key) {\n",
              "          const element = document.querySelector('#df-378c35a4-6b58-41f6-b2fd-72226fca9a4d');\n",
              "          const dataTable =\n",
              "            await google.colab.kernel.invokeFunction('convertToInteractive',\n",
              "                                                     [key], {});\n",
              "          if (!dataTable) return;\n",
              "\n",
              "          const docLinkHtml = 'Like what you see? Visit the ' +\n",
              "            '<a target=\"_blank\" href=https://colab.research.google.com/notebooks/data_table.ipynb>data table notebook</a>'\n",
              "            + ' to learn more about interactive tables.';\n",
              "          element.innerHTML = '';\n",
              "          dataTable['output_type'] = 'display_data';\n",
              "          await google.colab.output.renderOutput(dataTable, element);\n",
              "          const docLink = document.createElement('div');\n",
              "          docLink.innerHTML = docLinkHtml;\n",
              "          element.appendChild(docLink);\n",
              "        }\n",
              "      </script>\n",
              "    </div>\n",
              "  </div>\n",
              "  "
            ]
          },
          "metadata": {},
          "execution_count": 36
        }
      ]
    },
    {
      "cell_type": "code",
      "source": [
        "new_data = pd.DataFrame({\n",
        "    'altitude': [61],\n",
        "    'direction': [-63.500159],\n",
        "    'latitude': [50.36492],\n",
        "    'longitude': [3.02822],\n",
        "    'speed_2d': [2.845385],\n",
        "})\n",
        "predicted_location_dt = dt_model.predict(new_data)\n",
        "predicted_location_rf = multioutput_rf_model.predict(new_data)\n",
        "predicted_location_ada = multioutput_ada_model.predict(new_data)\n",
        "predicted_location_xgb = multioutput_xgb_model.predict(new_data)\n",
        "print(\"Predicted Location by Decision Tree regressor:\", predicted_location_dt)\n",
        "print(\"Predicted Location by Random Forest regressor:\", predicted_location_rf)\n",
        "print(\"Predicted Location by AdaBoost regressor:\", predicted_location_ada)\n",
        "print(\"Predicted Location by XGBoost regressor:\", predicted_location_xgb)"
      ],
      "metadata": {
        "colab": {
          "base_uri": "https://localhost:8080/"
        },
        "id": "QmQxLMminQnw",
        "outputId": "3b3036fb-a559-4fa8-f4c6-705acbdc34af"
      },
      "execution_count": null,
      "outputs": [
        {
          "output_type": "stream",
          "name": "stdout",
          "text": [
            "Predicted Location by Decision Tree regressor: [[50.3663812  3.0273708]]\n",
            "Predicted Location by Random Forest algorithm: [[50.3790756   3.00165462]]\n",
            "Predicted Location by AdaBoost algorithm: [[50.28849083  3.46725175]]\n",
            "Predicted Location by XGBoost algorithm: [[50.35954    3.0225868]]\n"
          ]
        }
      ]
    },
    {
      "cell_type": "code",
      "source": [
        "bird_df_new.iloc[41229]"
      ],
      "metadata": {
        "colab": {
          "base_uri": "https://localhost:8080/"
        },
        "id": "URQGZEAM_4I9",
        "outputId": "a3024bdb-f8de-4871-fbf6-7c94219bf4f1"
      },
      "execution_count": null,
      "outputs": [
        {
          "output_type": "execute_result",
          "data": {
            "text/plain": [
              "altitude                                  87\n",
              "date_time             2013-08-18 21:27:57+00\n",
              "device_info_serial                       833\n",
              "direction                         175.186937\n",
              "latitude                           50.364751\n",
              "longitude                           3.028164\n",
              "speed_2d                            3.283733\n",
              "bird_name                              Sanne\n",
              "next_latitude                      50.364896\n",
              "next_longitude                      3.028211\n",
              "Name: 41231, dtype: object"
            ]
          },
          "metadata": {},
          "execution_count": 38
        }
      ]
    },
    {
      "cell_type": "code",
      "source": [
        "#Final performance:\n",
        "print(\"Decision Tree regressor: \")\n",
        "mse1 = mean_squared_error(y_test, y_pred)\n",
        "rmse1 = np.sqrt(mse1)\n",
        "print(\"Mean Squared Error: \",mse1)\n",
        "print(\"Root Mean Squared Error:\", rmse1)\n",
        "\n",
        "\n",
        "print(\"Random forest algorithm: \")\n",
        "mse2 = mean_squared_error(y_test, y_pred_2)\n",
        "rmse2 = np.sqrt(mse2)\n",
        "print(\"Mean Squared Error: \",mse2)\n",
        "print(\"Root Mean Squared Error:\", rmse2)\n",
        "\n",
        "\n",
        "print(\"AdaBoost regressor: \")\n",
        "mse3 = mean_squared_error(y_test, y_pred_3)\n",
        "rmse3 = np.sqrt(mse3)\n",
        "print(\"Mean Squared Error: \",mse3)\n",
        "print(\"Root Mean Squared Error:\", rmse3)\n",
        "\n",
        "\n",
        "print(\"XGBoost algorithm: \")\n",
        "mse4 = mean_squared_error(y_test, y_pred_4)\n",
        "rmse4 = np.sqrt(mse4)\n",
        "print(\"Mean Squared Error: \",mse4)\n",
        "print(\"Root Mean Squared Error:\", rmse4)"
      ],
      "metadata": {
        "colab": {
          "base_uri": "https://localhost:8080/"
        },
        "id": "lI5au5xcjnT0",
        "outputId": "04488abb-2b12-44d3-a2fd-58b4a654bdb8"
      },
      "execution_count": null,
      "outputs": [
        {
          "output_type": "stream",
          "name": "stdout",
          "text": [
            "Decision Tree regressor: \n",
            "Mean Squared Error:  0.0013615285697286886\n",
            "Root Mean Squared Error: 0.03689889659229241\n",
            "Random forest algorithm: \n",
            "Mean Squared Error:  0.0023956631350064064\n",
            "Root Mean Squared Error: 0.048945511898502055\n",
            "AdaBoost regressor: \n",
            "Mean Squared Error:  0.26827232350052466\n",
            "Root Mean Squared Error: 0.5179501168071349\n",
            "XGBoost algorithm: \n",
            "Mean Squared Error:  0.0004949805133399616\n",
            "Root Mean Squared Error: 0.022248157526859647\n"
          ]
        }
      ]
    },
    {
      "cell_type": "markdown",
      "source": [
        "#Conclusion: There is potential for incorporating XGBoost for next location predictions in Bird Migration analysis."
      ],
      "metadata": {
        "id": "SkSmJKXoQam8"
      }
    }
  ]
}